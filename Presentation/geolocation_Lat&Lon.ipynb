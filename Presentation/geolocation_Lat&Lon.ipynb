{
 "cells": [
  {
   "cell_type": "code",
   "execution_count": 1,
   "id": "2c06280d-7ad5-4644-bd2e-5e14c33a4e62",
   "metadata": {},
   "outputs": [
    {
     "name": "stdout",
     "output_type": "stream",
     "text": [
      "Collecting ipinfo\n",
      "  Downloading ipinfo-4.2.1-py3-none-any.whl (16 kB)\n",
      "Requirement already satisfied: cachetools in c:\\users\\chiny\\anaconda3\\lib\\site-packages (from ipinfo) (4.2.2)\n",
      "Requirement already satisfied: aiohttp<=4 in c:\\users\\chiny\\anaconda3\\lib\\site-packages (from ipinfo) (3.8.1)\n",
      "Requirement already satisfied: requests in c:\\users\\chiny\\anaconda3\\lib\\site-packages (from ipinfo) (2.27.1)\n",
      "Requirement already satisfied: yarl<2.0,>=1.0 in c:\\users\\chiny\\anaconda3\\lib\\site-packages (from aiohttp<=4->ipinfo) (1.6.3)\n",
      "Requirement already satisfied: attrs>=17.3.0 in c:\\users\\chiny\\anaconda3\\lib\\site-packages (from aiohttp<=4->ipinfo) (21.4.0)\n",
      "Requirement already satisfied: multidict<7.0,>=4.5 in c:\\users\\chiny\\anaconda3\\lib\\site-packages (from aiohttp<=4->ipinfo) (5.1.0)\n",
      "Requirement already satisfied: charset-normalizer<3.0,>=2.0 in c:\\users\\chiny\\anaconda3\\lib\\site-packages (from aiohttp<=4->ipinfo) (2.0.4)\n",
      "Requirement already satisfied: async-timeout<5.0,>=4.0.0a3 in c:\\users\\chiny\\anaconda3\\lib\\site-packages (from aiohttp<=4->ipinfo) (4.0.1)\n",
      "Requirement already satisfied: aiosignal>=1.1.2 in c:\\users\\chiny\\anaconda3\\lib\\site-packages (from aiohttp<=4->ipinfo) (1.2.0)\n",
      "Requirement already satisfied: frozenlist>=1.1.1 in c:\\users\\chiny\\anaconda3\\lib\\site-packages (from aiohttp<=4->ipinfo) (1.2.0)\n",
      "Requirement already satisfied: typing-extensions>=3.6.5 in c:\\users\\chiny\\anaconda3\\lib\\site-packages (from async-timeout<5.0,>=4.0.0a3->aiohttp<=4->ipinfo) (4.1.1)\n",
      "Requirement already satisfied: idna>=2.0 in c:\\users\\chiny\\anaconda3\\lib\\site-packages (from yarl<2.0,>=1.0->aiohttp<=4->ipinfo) (3.3)\n",
      "Requirement already satisfied: urllib3<1.27,>=1.21.1 in c:\\users\\chiny\\anaconda3\\lib\\site-packages (from requests->ipinfo) (1.26.9)\n",
      "Requirement already satisfied: certifi>=2017.4.17 in c:\\users\\chiny\\anaconda3\\lib\\site-packages (from requests->ipinfo) (2022.6.15)\n",
      "Installing collected packages: ipinfo\n",
      "Successfully installed ipinfo-4.2.1\n",
      "Note: you may need to restart the kernel to use updated packages.\n"
     ]
    }
   ],
   "source": [
    "pip install ipinfo"
   ]
  },
  {
   "cell_type": "code",
   "execution_count": 2,
   "id": "9ef38184-8a03-406a-9e2d-a1e8c13f071a",
   "metadata": {},
   "outputs": [],
   "source": [
    "import ipinfo"
   ]
  },
  {
   "cell_type": "code",
   "execution_count": 7,
   "id": "2eae1402-de0b-4678-9517-d551484cc37c",
   "metadata": {},
   "outputs": [],
   "source": [
    "access_token = '406fc44cffa13e'"
   ]
  },
  {
   "cell_type": "code",
   "execution_count": 8,
   "id": "8bd73295-0aae-44ad-aeca-325b30a2b6ab",
   "metadata": {},
   "outputs": [],
   "source": [
    "handler = ipinfo.getHandler(access_token)"
   ]
  },
  {
   "cell_type": "code",
   "execution_count": 28,
   "id": "eee26a1f-b3a3-450e-8f3b-101cb5e53d59",
   "metadata": {},
   "outputs": [],
   "source": [
    "ip_address = '216.239.63.255'"
   ]
  },
  {
   "cell_type": "code",
   "execution_count": 29,
   "id": "bf2aa09b-5b2f-48ff-b6da-fc9e1823db05",
   "metadata": {},
   "outputs": [],
   "source": [
    "details = handler.getDetails(ip_address)"
   ]
  },
  {
   "cell_type": "code",
   "execution_count": 30,
   "id": "f90b4533-cf01-49d3-b0f8-c6f73c0899c8",
   "metadata": {},
   "outputs": [
    {
     "data": {
      "text/plain": [
       "'37.4056,-122.0775'"
      ]
     },
     "execution_count": 30,
     "metadata": {},
     "output_type": "execute_result"
    }
   ],
   "source": [
    "details.loc"
   ]
  },
  {
   "cell_type": "code",
   "execution_count": 11,
   "id": "f9357191-448e-4c4e-836f-76bc38be306e",
   "metadata": {},
   "outputs": [
    {
     "data": {
      "text/plain": [
       "'37.3861,-122.0840'"
      ]
     },
     "execution_count": 11,
     "metadata": {},
     "output_type": "execute_result"
    }
   ],
   "source": [
    "# >>> details.city\n",
    "# 'Mountain View'\n",
    "# >>> details.loc\n",
    "# '37.3861,-122.0840'"
   ]
  },
  {
   "cell_type": "code",
   "execution_count": 12,
   "id": "f8413065-03ab-46a2-8700-39dd0c113b2e",
   "metadata": {},
   "outputs": [
    {
     "data": {
      "text/plain": [
       "'United States'"
      ]
     },
     "execution_count": 12,
     "metadata": {},
     "output_type": "execute_result"
    }
   ],
   "source": [
    "# >>> details.country\n",
    "# 'US'\n",
    "# >>> details.country_name\n",
    "# 'United States'"
   ]
  },
  {
   "cell_type": "code",
   "execution_count": null,
   "id": "541ddf2c-dd84-4d1b-a73e-fdb7ac4e1279",
   "metadata": {},
   "outputs": [],
   "source": []
  }
 ],
 "metadata": {
  "kernelspec": {
   "display_name": "Python 3 (ipykernel)",
   "language": "python",
   "name": "python3"
  },
  "language_info": {
   "codemirror_mode": {
    "name": "ipython",
    "version": 3
   },
   "file_extension": ".py",
   "mimetype": "text/x-python",
   "name": "python",
   "nbconvert_exporter": "python",
   "pygments_lexer": "ipython3",
   "version": "3.9.12"
  }
 },
 "nbformat": 4,
 "nbformat_minor": 5
}
