{
 "cells": [
  {
   "cell_type": "code",
   "execution_count": 1,
   "id": "620cf434-a77e-4257-8aa0-1404f65f1e68",
   "metadata": {},
   "outputs": [],
   "source": [
    "# Initial imports\n",
    "import os\n",
    "import requests\n",
    "import json\n",
    "import pandas as pd\n",
    "from dotenv import load_dotenv"
   ]
  },
  {
   "cell_type": "code",
   "execution_count": 2,
   "id": "3f967ed5-87cf-4d02-a954-aa2028affec0",
   "metadata": {},
   "outputs": [],
   "source": [
    "# Crypto FDA URLs\n",
    "FDA_url = \"https://api-datadashboard.fda.gov\""
   ]
  },
  {
   "cell_type": "code",
   "execution_count": 3,
   "id": "5361ca06-c5f9-47dc-89b9-9a29625a2e44",
   "metadata": {},
   "outputs": [
    {
     "name": "stdout",
     "output_type": "stream",
     "text": [
      "FDA Key type: <class 'NoneType'>\n",
      "FDA Secret Key type: <class 'NoneType'>\n"
     ]
    }
   ],
   "source": [
    "# Set Alpaca API key and secret key\n",
    "FDA_api_key = os.getenv('Api_Key')\n",
    "FDA_secret_key = os.getenv('Secret_Key')\n",
    "\n",
    "\n",
    "# Verify that Alpaca key and secret were correctly loaded\n",
    "print(f\"FDA Key type: {type(FDA_api_key)}\")\n",
    "print(f\"FDA Secret Key type: {type(FDA_secret_key)}\")"
   ]
  },
  {
   "cell_type": "code",
   "execution_count": 4,
   "id": "bfbb9a48-aae0-4b44-a96a-eaed41947037",
   "metadata": {},
   "outputs": [
    {
     "ename": "NameError",
     "evalue": "name 'testFDA' is not defined",
     "output_type": "error",
     "traceback": [
      "\u001b[1;31m---------------------------------------------------------------------------\u001b[0m",
      "\u001b[1;31mNameError\u001b[0m                                 Traceback (most recent call last)",
      "Input \u001b[1;32mIn [4]\u001b[0m, in \u001b[0;36m<cell line: 2>\u001b[1;34m()\u001b[0m\n\u001b[0;32m      1\u001b[0m \u001b[38;5;66;03m# Create the Alpaca API object\u001b[39;00m\n\u001b[1;32m----> 2\u001b[0m FDA_api \u001b[38;5;241m=\u001b[39m \u001b[43mtestFDA\u001b[49m\u001b[38;5;241m.\u001b[39mREST(\n\u001b[0;32m      3\u001b[0m     FDA_api_key,\n\u001b[0;32m      4\u001b[0m     FDA_secret_key,\n\u001b[0;32m      5\u001b[0m     api_version\u001b[38;5;241m=\u001b[39m\u001b[38;5;124m\"\u001b[39m\u001b[38;5;124mv1\u001b[39m\u001b[38;5;124m\"\u001b[39m\n\u001b[0;32m      6\u001b[0m )\n",
      "\u001b[1;31mNameError\u001b[0m: name 'testFDA' is not defined"
     ]
    }
   ],
   "source": [
    "# Create the Alpaca API object\n",
    "FDA_api = testFDA.REST(\n",
    "    FDA_api_key,\n",
    "    FDA_secret_key,\n",
    "    api_version=\"v1\"\n",
    ")"
   ]
  },
  {
   "cell_type": "code",
   "execution_count": null,
   "id": "57e0b1e6-37bc-4e23-a373-257294e02345",
   "metadata": {},
   "outputs": [],
   "source": []
  }
 ],
 "metadata": {
  "kernelspec": {
   "display_name": "Python 3 (ipykernel)",
   "language": "python",
   "name": "python3"
  },
  "language_info": {
   "codemirror_mode": {
    "name": "ipython",
    "version": 3
   },
   "file_extension": ".py",
   "mimetype": "text/x-python",
   "name": "python",
   "nbconvert_exporter": "python",
   "pygments_lexer": "ipython3",
   "version": "3.9.12"
  }
 },
 "nbformat": 4,
 "nbformat_minor": 5
}
